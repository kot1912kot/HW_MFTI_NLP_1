{
  "nbformat": 4,
  "nbformat_minor": 0,
  "metadata": {
    "colab": {
      "provenance": []
    },
    "kernelspec": {
      "name": "python3",
      "display_name": "Python 3"
    },
    "language_info": {
      "name": "python"
    }
  },
  "cells": [
    {
      "cell_type": "code",
      "execution_count": 5,
      "metadata": {
        "colab": {
          "base_uri": "https://localhost:8080/"
        },
        "id": "NeEURBCvoo5n",
        "outputId": "eb3f5a60-fb5e-4836-9550-e2c9bb5352d7"
      },
      "outputs": [
        {
          "output_type": "execute_result",
          "data": {
            "text/plain": [
              "['\"x\"\\n',\n",
              " '\"\\n',\n",
              " '\\t\\t\\t\\t\\t\\t\\n',\n",
              " '\\t\\t\\t\\t\\t\\t\\t\\n',\n",
              " '\\t\\t\\t\\t\\t\\t\\t\\n',\n",
              " '\\t\\t\\t\\t\\t\\t\\t\\n',\n",
              " '\\t\\t\\t\\t\\t\\t\\t(adsbygoogle = window.adsbygoogle || []).push({});\\n',\n",
              " '\\t\\t\\t\\t\\t\\t\\t\\n',\n",
              " '\\t\\t\\t\\t\\t\\t\\t(Rain patters)\\n',\n",
              " '(Loud thunderclap)\\n',\n",
              " '(Heartbeat pulses loudly)\\n',\n",
              " '(Men scream in agony)\\n',\n",
              " '(Inhales deeply)\\n',\n",
              " 'Latvian warrior: (Attack yell)\\n',\n",
              " '(Fighting grunts)\\n',\n",
              " 'Agghhh!\\n',\n",
              " 'Ungh!\\n',\n",
              " 'Ohhh!\\n',\n",
              " 'Agghhh!\\n',\n",
              " 'Agh! Ugh!\\n']"
            ]
          },
          "metadata": {},
          "execution_count": 5
        }
      ],
      "source": [
        "# Загрузка файла\n",
        "file_path = '/content/Viking.txt'\n",
        "\n",
        "# Чтение файла\n",
        "with open(file_path, 'r', encoding='utf-8') as file:\n",
        "    content = file.readlines()\n",
        "\n",
        "content[:20]"
      ]
    },
    {
      "cell_type": "code",
      "source": [
        "# Анализ данных\n",
        "import re\n",
        "\n",
        "dialogues = []\n",
        "\n",
        "dialogue_pattern = re.compile(r'([A-Za-z\\s]+):\\s(.+)')\n",
        "\n",
        "for line in content:\n",
        "    line = line.strip()\n",
        "\n",
        "    match = dialogue_pattern.match(line)\n",
        "    if match:\n",
        "        character = match.group(1).strip()\n",
        "        dialogue = match.group(2).strip()\n",
        "\n",
        "        dialogues.append({'character': character, 'dialogue': dialogue})\n",
        "\n",
        "dialogues[:10]"
      ],
      "metadata": {
        "colab": {
          "base_uri": "https://localhost:8080/"
        },
        "id": "gCw-5L3rq_l9",
        "outputId": "ad371969-6115-44e1-e31f-0c8c95e9d8d2"
      },
      "execution_count": 6,
      "outputs": [
        {
          "output_type": "execute_result",
          "data": {
            "text/plain": [
              "[{'character': 'Latvian warrior', 'dialogue': '(Attack yell)'},\n",
              " {'character': 'Scandinavian warrior', 'dialogue': 'Ragnar!'},\n",
              " {'character': 'Voice', 'dialogue': 'Odin!'},\n",
              " {'character': 'Rollo', 'dialogue': 'Ragnar!'},\n",
              " {'character': 'Lagertha', 'dialogue': 'What are you two doing?'},\n",
              " {'character': 'Lagertha',\n",
              "  'dialogue': \"Don't sleep with lots of women in Kattegat.\"},\n",
              " {'character': 'Ragnar', 'dialogue': '(To Bjorn)'},\n",
              " {'character': 'Bjorn', 'dialogue': 'Frodi! Come on, boy.'},\n",
              " {'character': 'Bjorn', 'dialogue': 'What will happen at the thing?'},\n",
              " {'character': 'Ragnar',\n",
              "  'dialogue': \"The Earl will deal with some criminal offences and then, we'll discuss the summer raids.\"}]"
            ]
          },
          "metadata": {},
          "execution_count": 6
        }
      ]
    },
    {
      "cell_type": "code",
      "source": [
        "# Подсчет количества реплик с описаниями действий или звуков в скобках\n",
        "count_dialogues_with_parentheses = sum(1 for d in dialogues if '(' in d['dialogue'] or ')' in d['dialogue'])\n",
        "\n",
        "# Вывод информации о количестве таких реплик\n",
        "count_dialogues_with_parentheses, len(dialogues), count_dialogues_with_parentheses / len(dialogues)"
      ],
      "metadata": {
        "colab": {
          "base_uri": "https://localhost:8080/"
        },
        "id": "k0eNoG_10Ad-",
        "outputId": "4722cc0f-c4a6-438e-9c46-b35bcdeb0356"
      },
      "execution_count": 7,
      "outputs": [
        {
          "output_type": "execute_result",
          "data": {
            "text/plain": [
              "(291, 3043, 0.09562931317778509)"
            ]
          },
          "metadata": {},
          "execution_count": 7
        }
      ]
    },
    {
      "cell_type": "code",
      "source": [
        "# Функция для очистки диалога от содержимого в скобках и нежелательных символов\n",
        "def clean_dialogue_advanced(dialogue):\n",
        "    # Удаление содержимого в скобках\n",
        "    dialogue = re.sub(r'\\(.*?\\)', '', dialogue)\n",
        "    # Удаление специальных символов, кроме знаков пунктуации\n",
        "    dialogue = re.sub(r'[^a-zA-Zа-яА-ЯёЁ0-9 .,!?\\'\\\"]', ' ', dialogue)\n",
        "    # Удаление лишних пробелов\n",
        "    dialogue = re.sub(r'\\s+', ' ', dialogue).strip()\n",
        "    return dialogue\n",
        "\n",
        "# Применение обновленной функции очистки ко всем репликам\n",
        "for d in dialogues:\n",
        "    d['dialogue'] = clean_dialogue_advanced(d['dialogue'])\n",
        "\n",
        "# Удаление реплик, которые стали пустыми после очистки\n",
        "dialogues_cleaned_advanced = [d for d in dialogues if d['dialogue']]"
      ],
      "metadata": {
        "id": "pzZqB3Ux0AhA"
      },
      "execution_count": 8,
      "outputs": []
    },
    {
      "cell_type": "code",
      "source": [
        "# Подсчет количества реплик с описаниями действий или звуков в скобках\n",
        "count_dialogues_with_parentheses = sum(1 for d in dialogues if '(' in d['dialogue'] or ')' in d['dialogue'])\n",
        "\n",
        "# Вывод информации о количестве таких реплик\n",
        "count_dialogues_with_parentheses, len(dialogues), count_dialogues_with_parentheses / len(dialogues)"
      ],
      "metadata": {
        "colab": {
          "base_uri": "https://localhost:8080/"
        },
        "id": "_IlfVLwj0Ajt",
        "outputId": "e58c4cf4-038b-4630-912b-5e5bad06695f"
      },
      "execution_count": 9,
      "outputs": [
        {
          "output_type": "execute_result",
          "data": {
            "text/plain": [
              "(0, 3043, 0.0)"
            ]
          },
          "metadata": {},
          "execution_count": 9
        }
      ]
    },
    {
      "cell_type": "code",
      "source": [
        "# Выведем первые 10 очищенных реплик для проверки\n",
        "dialogues[:10]"
      ],
      "metadata": {
        "colab": {
          "base_uri": "https://localhost:8080/"
        },
        "id": "JULq91FO0AmT",
        "outputId": "b9602e4f-b0c6-421a-d9c2-ffc695d496c2"
      },
      "execution_count": 11,
      "outputs": [
        {
          "output_type": "execute_result",
          "data": {
            "text/plain": [
              "[{'character': 'Latvian warrior', 'dialogue': ''},\n",
              " {'character': 'Scandinavian warrior', 'dialogue': 'Ragnar!'},\n",
              " {'character': 'Voice', 'dialogue': 'Odin!'},\n",
              " {'character': 'Rollo', 'dialogue': 'Ragnar!'},\n",
              " {'character': 'Lagertha', 'dialogue': 'What are you two doing?'},\n",
              " {'character': 'Lagertha',\n",
              "  'dialogue': \"Don't sleep with lots of women in Kattegat.\"},\n",
              " {'character': 'Ragnar', 'dialogue': ''},\n",
              " {'character': 'Bjorn', 'dialogue': 'Frodi! Come on, boy.'},\n",
              " {'character': 'Bjorn', 'dialogue': 'What will happen at the thing?'},\n",
              " {'character': 'Ragnar',\n",
              "  'dialogue': \"The Earl will deal with some criminal offences and then, we'll discuss the summer raids.\"}]"
            ]
          },
          "metadata": {},
          "execution_count": 11
        }
      ]
    },
    {
      "cell_type": "code",
      "source": [
        "# Удаление реплик, которые стали пустыми после очистки\n",
        "dialogues_cleaned = [d for d in dialogues if d['dialogue']]\n",
        "\n",
        "# Вывод количества реплик до и после очистки\n",
        "len(dialogues), len(dialogues_cleaned)"
      ],
      "metadata": {
        "colab": {
          "base_uri": "https://localhost:8080/"
        },
        "id": "k5BZ4oth0ArU",
        "outputId": "6742b9f4-5fea-4d1a-f598-b0f6d2c8e218"
      },
      "execution_count": 13,
      "outputs": [
        {
          "output_type": "execute_result",
          "data": {
            "text/plain": [
              "(3043, 2834)"
            ]
          },
          "metadata": {},
          "execution_count": 13
        }
      ]
    },
    {
      "cell_type": "code",
      "source": [
        "from collections import defaultdict\n",
        "import nltk\n",
        "from nltk.tokenize import word_tokenize\n",
        "from nltk.probability import FreqDist\n",
        "\n",
        "nltk.download('punkt')"
      ],
      "metadata": {
        "colab": {
          "base_uri": "https://localhost:8080/"
        },
        "id": "EVtLo7ZL0AuB",
        "outputId": "f2d98d9f-9d3a-455c-b08b-9d6c016aa572"
      },
      "execution_count": 14,
      "outputs": [
        {
          "output_type": "stream",
          "name": "stderr",
          "text": [
            "[nltk_data] Downloading package punkt to /root/nltk_data...\n",
            "[nltk_data]   Unzipping tokenizers/punkt.zip.\n"
          ]
        },
        {
          "output_type": "execute_result",
          "data": {
            "text/plain": [
              "True"
            ]
          },
          "metadata": {},
          "execution_count": 14
        }
      ]
    },
    {
      "cell_type": "code",
      "source": [
        "# Инициализация словаря для хранения реплик по персонажам\n",
        "dialogues_by_character = defaultdict(list)\n",
        "\n",
        "# Сбор реплик по персонажам\n",
        "for dialogue in dialogues_cleaned_advanced:\n",
        "    dialogues_by_character[dialogue['character']].append(dialogue['dialogue'])\n",
        "\n",
        "# Инициализация словаря для хранения частотных распределений слов по персонажам\n",
        "word_freq_by_character = {}\n",
        "\n",
        "# Анализ частоты слов для каждого персонажа\n",
        "for character, dialogues in dialogues_by_character.items():\n",
        "    all_dialogues = ' '.join(dialogues)\n",
        "    tokens = word_tokenize(all_dialogues)\n",
        "    freq_dist = FreqDist(tokens)\n",
        "    word_freq_by_character[character] = freq_dist\n",
        "\n",
        "# Выведем частотные распределения для первого персонажа для примера\n",
        "first_character = list(word_freq_by_character.keys())[0]\n",
        "word_freq_by_character[first_character]"
      ],
      "metadata": {
        "colab": {
          "base_uri": "https://localhost:8080/"
        },
        "id": "uOlDFWfv2i2c",
        "outputId": "07acca91-fa16-4176-b27e-56b54d7567ad"
      },
      "execution_count": 15,
      "outputs": [
        {
          "output_type": "execute_result",
          "data": {
            "text/plain": [
              "FreqDist({'Ragnar': 1, '!': 1})"
            ]
          },
          "metadata": {},
          "execution_count": 15
        }
      ]
    },
    {
      "cell_type": "code",
      "source": [
        "word_freq_by_character"
      ],
      "metadata": {
        "colab": {
          "base_uri": "https://localhost:8080/"
        },
        "id": "2zzsH2dH2n_X",
        "outputId": "aff9da80-88d6-4f31-9912-b86703542274"
      },
      "execution_count": 16,
      "outputs": [
        {
          "output_type": "execute_result",
          "data": {
            "text/plain": [
              "{'Scandinavian warrior': FreqDist({'Ragnar': 1, '!': 1}),\n",
              " 'Voice': FreqDist({'Odin': 1, '!': 1}),\n",
              " 'Rollo': FreqDist({'.': 76, '!': 43, ',': 30, 'you': 25, '?': 24, 'to': 22, 'I': 21, 'is': 14, 'the': 12, 'of': 10, ...}),\n",
              " 'Lagertha': FreqDist({'.': 63, 'I': 28, '?': 27, ',': 27, '!': 23, 'you': 20, 'to': 19, 'is': 13, 'the': 13, 'do': 10, ...}),\n",
              " 'Bjorn': FreqDist({'.': 64, '!': 46, '?': 38, ',': 30, 'you': 25, 'the': 20, 'to': 20, 'I': 19, 'is': 18, 'we': 13, ...}),\n",
              " 'Ragnar': FreqDist({'.': 199, ',': 85, 'to': 73, 'I': 59, 'you': 58, 'the': 56, '?': 49, '!': 35, 'is': 27, 'a': 24, ...}),\n",
              " 'Man': FreqDist({'!': 125, '.': 64, ',': 49, 'One': 24, 'two': 24, 'the': 16, 'Pull': 13, 'Heave': 13, 'you': 11, \"'s\": 10, ...}),\n",
              " 'Svein': FreqDist({'.': 22, 'the': 10, '!': 10, 'you': 9, '?': 9, 'a': 7, ',': 7, 'to': 6, 'in': 6, 'is': 5, ...}),\n",
              " 'Men': FreqDist({'!': 13, 'U': 8, '266A': 8, 'Pull': 3, '.': 2, '...': 2, 'Yeah': 2, 'Yes': 2, 'No': 2, 'There': 1, ...}),\n",
              " 'Trygvasson': FreqDist({'I': 3, 'It': 2, '.': 2, 'the': 2, 'not': 2, '!': 2, \"'m\": 2, 'a': 2, 'coward': 2, 'was': 1, ...}),\n",
              " 'Woman': FreqDist({'!': 32, '.': 15, ',': 8, 'you': 7, 'Come': 6, '?': 5, 'can': 4, 'the': 4, 'on': 4, 'Help': 3, ...}),\n",
              " 'Family member': FreqDist({'You': 2, '!': 2, 'murdered': 1, 'my': 1, 'brother': 1, 'in': 1, 'cold': 1, 'blood': 1, 'wanted': 1, 'that': 1, ...}),\n",
              " 'Earl Haraldson': FreqDist({'.': 35, 'you': 22, '?': 22, ',': 17, 'to': 13, 'do': 11, 'I': 8, 'him': 7, 'the': 7, 'You': 6, ...}),\n",
              " 'On': FreqDist({',': 3, 'son': 2, 'of': 2, 'Olaf': 1, 'Ingolf': 1, 'Bjorn': 1, 'Ragnar': 1, '.': 1}),\n",
              " 'Boys': FreqDist({'Yes': 2, ',': 2, 'lord': 2, '.': 2, 'Father': 1, '!': 1}),\n",
              " 'Housecarl': FreqDist({',': 4, '.': 3, 'Haraldson': 2, 'Yes': 2, 'Lord': 2, 'Ragnar': 1, 'Lothbrok': 1, 'Earl': 1, 'wants': 1, 'to': 1, ...}),\n",
              " 'Seer': FreqDist({'.': 32, ',': 22, 'you': 19, 'the': 14, 'I': 11, '?': 10, 'and': 9, 'to': 9, 'gods': 8, 'see': 8, ...}),\n",
              " 'Ancient seer': FreqDist({'gods': 5, 'you': 4, 'the': 4, '.': 4, 'to': 3, 'The': 3, 'will': 3, '...': 2, 'they': 2, ',': 2, ...}),\n",
              " 'Floki': FreqDist({'.': 50, ',': 38, '!': 22, '?': 20, 'I': 19, 'the': 16, 'and': 13, 'you': 13, 'Ragnar': 11, 'be': 10, ...}),\n",
              " 'Gyda': FreqDist({'?': 6, '.': 6, 'I': 5, 'you': 5, ',': 4, 'have': 3, '!': 3, 'priest': 2, 'do': 2, 'like': 2, ...}),\n",
              " 'Erik': FreqDist({'.': 6, ',': 5, '!': 4, 'to': 3, 'my': 2, 'not': 2, 'Ragnar': 1, 'Lothbrok': 1, 'welcome': 1, 'house': 1, ...}),\n",
              " 'Leif': FreqDist({'.': 11, 'to': 7, 'I': 4, ',': 4, 'for': 3, '?': 3, 'Ragnar': 3, '!': 3, 'you': 3, 'and': 3, ...}),\n",
              " 'Torstein': FreqDist({'.': 20, ',': 10, '!': 9, 'you': 7, 'the': 6, '?': 6, 'to': 5, 'I': 4, 'Rollo': 4, 'would': 3, ...}),\n",
              " 'Kauko': FreqDist({'You': 1, 'want': 1, 'us': 1, 'to': 1, 'join': 1, 'you': 1, 'in': 1, 'the': 1, 'boat': 1, '?': 1, ...}),\n",
              " 'Knut': FreqDist({'.': 5, '?': 2, 'I': 2, 'If': 1, 'there': 1, 'are': 1, 'any': 1, 'They': 1, 'have': 1, 'set': 1, ...}),\n",
              " 'Young men': FreqDist({'I': 4, '!': 4, 'too': 2, 'will': 2, 'And': 1, 'go': 1}),\n",
              " 'Olafur': FreqDist({'My': 1, 'lord': 1, ',': 1, 'there': 1, 'was': 1, 'a': 1, 'meeting': 1, '.': 1, 'Siggy': 1, '?': 1}),\n",
              " 'Siggy': FreqDist({'.': 42, 'you': 17, '?': 16, ',': 15, 'to': 14, \"'s\": 10, '!': 10, 'come': 7, 'me': 6, 'I': 6, ...}),\n",
              " 'Slave': FreqDist({'Master': 1, '.': 1}),\n",
              " 'Athelstan': FreqDist({'.': 78, ',': 49, 'I': 28, 'the': 26, 'a': 26, 'to': 26, 'is': 25, '?': 21, 'of': 21, '!': 18, ...}),\n",
              " 'Father Cuthbert': FreqDist({'?': 5, 'What': 2, 'is': 2, 'et': 2, 'Signs': 1, 'signs': 1, 'Of': 1, 'what': 1, 'do': 1, 'you': 1, ...}),\n",
              " 'Blacksmith': FreqDist({',': 2, 'to': 2, '?': 2, 'My': 1, 'lord': 1, 'how': 1, 'can': 1, 'I': 1, 'be': 1, 'of': 1, ...}),\n",
              " 'Warrior': FreqDist({'!': 31, '.': 5, ',': 3, 'They': 3, \"'re\": 3, 'you': 3, 'for': 2, 'What': 2, \"'s\": 2, 'Come': 2, ...}),\n",
              " 'Arne': FreqDist({'!': 9, '.': 5, 'of': 3, 'the': 3, 'see': 2, 'end': 2, 'your': 2, 'I': 2, '?': 2, \"'s\": 2, ...}),\n",
              " 'Cenwulf': FreqDist({'Hell': 2, 'and': 2, 'all': 2, 'its': 2, 'devils': 2, '!': 2}),\n",
              " 'Monk': FreqDist({'!': 6, 'Come': 2, 'There': 1, 'are': 1, 'here': 1, ',': 1, 'brother': 1, 'This': 1, 'is': 1, 'the': 1, ...}),\n",
              " 'Ingigerd': FreqDist({'are': 2, 'you': 2, '?': 2, 'What': 1, 'doing': 1, 'Where': 1, 'taking': 1, 'my': 1, 'son': 1}),\n",
              " 'Ellisef': FreqDist({'Erik': 1, '!': 1}),\n",
              " 'Crowd': FreqDist({'!': 29, 'Earl': 14, '.': 11, 'Long': 11, 'live': 11, 'Ingstad': 11, 'Ragnar': 4, 'Thor': 3, 'All': 3, 'hail': 3, ...}),\n",
              " 'Boy': FreqDist({'!': 4, '.': 3, 'Agh': 1, 'Thirteen': 1, 'I': 1, 'dream': 1, 'of': 1, 'it': 1, 'Mom': 1, 'Rollo': 1, ...}),\n",
              " 'Haraldson': FreqDist({'.': 12, 'to': 7, ',': 6, 'I': 4, 'and': 4, 'him': 4, '?': 4, \"'re\": 3, 'We': 3, 'east': 3, ...}),\n",
              " 'Soldier': FreqDist({'!': 24, ',': 5, '.': 4, 'the': 3, 'gate': 2, 'Ungh': 2, 'There': 2, 'Prince': 2, 'go': 2, 'Ha': 1, ...}),\n",
              " 'Saxon rider': FreqDist({'Hi': 2, 'yah': 2, '!': 2}),\n",
              " 'King Aelle': FreqDist({',': 19, '.': 10, '?': 8, '!': 8, 'the': 7, 'my': 5, 'lord': 5, 'with': 4, 'a': 4, 'I': 4, ...}),\n",
              " 'Priest': FreqDist({'.': 13, 'and': 8, ',': 8, 'the': 7, 'to': 6, 'Hail': 5, '!': 3, 'Aesir': 3, 'Vanir': 3, 'of': 3, ...}),\n",
              " 'Brave men': FreqDist({'Aggggghhhhhh': 1, '!': 1}),\n",
              " 'Saxon': FreqDist({'Archers': 1, 'front': 1, '!': 1}),\n",
              " 'Wigea': FreqDist({'Yah': 2, '!': 2, 'fight': 2, 'Sire': 1, ',': 1, 'I': 1, 'have': 1, 'never': 1, 'in': 1, 'my': 1, ...}),\n",
              " 'Tell me': FreqDist({'Is': 1, 'it': 1, 'your': 1, 'will': 1, 'that': 1, 'I': 1, 'am': 1, 'here': 1, 'with': 1, 'these': 1, ...}),\n",
              " 'All': FreqDist({'!': 75, 'Heave': 43, '.': 10, 'Pull': 8, 'Hail': 7, 'Ragnar': 6, 'Amen': 6, 'Aye': 5, ',': 3, 'Earl': 3, ...}),\n",
              " 'Servant': FreqDist({'That': 1, \"'s\": 1, 'the': 1, 'last': 1, 'one': 1, ',': 1, 'My': 1, 'Lord': 1, '.': 1}),\n",
              " 'Warriors': FreqDist({'!': 5, 'Hi': 2, 'ya': 2, 'Oh': 2, 'no': 1, 'Ugh': 1}),\n",
              " 'Earl Bjarni': FreqDist({'.': 4, 'I': 3, 'Thank': 1, 'you': 1, 'It': 1, 'was': 1, 'a': 1, 'very': 1, 'hard': 1, 'crossing': 1, ...}),\n",
              " 'Thyri': FreqDist({'.': 4, 'you': 2, ',': 2, 'I': 2, 'Thank': 1, 'My': 1, 'Lord': 1, 'Very': 1, 'well': 1, 'do': 1, ...}),\n",
              " 'Helga': FreqDist({'.': 17, 'the': 7, ',': 7, '?': 5, 'No': 4, '!': 4, 'from': 3, 'I': 3, 'you': 3, 'was': 2, ...}),\n",
              " 'The seer': FreqDist({'Stones': 1, 'and': 1, 'bones': 1, '.': 1}),\n",
              " 'Old man': FreqDist({'Tostig': 1, ',': 1, 'lord': 1, 'Ragnar': 1, '.': 1}),\n",
              " 'Tostig': FreqDist({'I': 3, '.': 3, 'my': 2, '!': 2, 'By': 1, 'sacred': 1, 'rings': 1, 'swear': 1, 'Ragnar': 1, 'have': 1, ...}),\n",
              " 'tostig': FreqDist({'That': 1, 'I': 1, 'am': 1, 'too': 1, 'old': 1, '?': 1}),\n",
              " 'Old woman': FreqDist({'the': 2, 'Put': 1, 'body': 1, 'on': 1, 'bench': 1, '.': 1, 'Silence': 1, '!': 1}),\n",
              " 'Each one of them says to her': FreqDist({'``': 2, 'Tell': 1, 'your': 1, 'master': 1, 'I': 1, 'did': 1, 'this': 1, 'out': 1, 'of': 1, 'love': 1, ...}),\n",
              " 'Young slave woman': FreqDist({'I': 1, 'can': 1, 'see': 1, 'my': 1, 'master': 1, '!': 1}),\n",
              " 'Messenger': FreqDist({'.': 4, 'They': 2, 'in': 2, 'ships': 2, 'the': 2, 'did': 1, \"n't\": 1, 'came': 1, 'three': 1, ',': 1, ...}),\n",
              " 'Lord Wigea': FreqDist({'like': 2, ',': 2, 'I': 1, 'merely': 1, 'said': 1, 'they': 1, 'fought': 1, 'demons': 1, 'men': 1, 'possessed': 1, ...}),\n",
              " 'Noble': FreqDist({'!': 2, 'Brother': 1, 'The': 1, 'king': 1}),\n",
              " 'Lord Aethelwulf': FreqDist({'What': 1, 'on': 1, 'earth': 1, 'made': 1, 'you': 1, 'think': 1, 'I': 1, 'would': 1, 'not': 1, ',': 1, ...}),\n",
              " 'Lord Edgar': FreqDist({',': 2, '.': 2, 'And': 1, 'there': 1, \"'s\": 1, 'no': 1, 'man': 1, 'better': 1, 'lord': 1, 'Aethelwulf': 1, ...}),\n",
              " 'Peasant man': FreqDist({'her': 2, '!': 2, 'The': 1, 'problem': 1, 'is': 1, 'She': 1, 'has': 1, 'had': 1, 'a': 1, 'child': 1, ...}),\n",
              " 'Saxon warrior': FreqDist({'!': 14, 'Awake': 2, 'Rise': 2, \"'re\": 2, 'Under': 1, 'attack': 1, 'Arm': 1, 'yourselves': 1, 'Saxon': 1, 'warrior': 1, ...}),\n",
              " 'Bishop Unwan': FreqDist({',': 24, 'the': 24, 'from': 16, 'and': 8, 'of': 7, '.': 5, 'name': 3, 'say': 2, 'God': 2, 'our': 2, ...}),\n",
              " 'Several nobles': FreqDist({'Aye': 1, '!': 1}),\n",
              " 'Lord Eadric': FreqDist({',': 4, '.': 3, 'Sire': 2, 'and': 2, 'we': 2, 'the': 2, 'of': 2, '?': 2, 'Greetings': 1, 'this': 1, ...}),\n",
              " 'Ealswith': FreqDist({'Go': 1, 'on': 1, 'now': 1, '.': 1}),\n",
              " 'King Aelle and Ealswith': FreqDist({'Amen': 1, '.': 1}),\n",
              " 'King Aelle and saxons': FreqDist({'Amen': 1, '.': 1}),\n",
              " 'Priests': FreqDist({'Et': 1, 'spiritus': 1, 'sancti': 1, '.': 1}),\n",
              " 'Saxon warriors': FreqDist({'!': 2, 'Fight': 1, 'back': 1, 'Regroup': 1}),\n",
              " 'Lief': FreqDist({'Ungh': 1, '!': 1}),\n",
              " 'Older woman': FreqDist({'A': 1, 'gift': 1, 'for': 1, 'the': 1, 'gods': 1, '.': 1}),\n",
              " 'Lothbrok family': FreqDist({'All': 1, 'hail': 1, '.': 1}),\n",
              " 'Companion': FreqDist({'Priests': 1, '!': 1}),\n",
              " 'King Horik': FreqDist({'.': 23, '!': 21, ',': 21, 'you': 18, '?': 16, 'I': 11, 'not': 9, 'is': 9, 'Ragnar': 8, 'to': 8, ...}),\n",
              " 'He told me your story': FreqDist({'a': 3, 'you': 2, 'were': 2, ',': 2, 'That': 1, 'priest': 1, 'that': 1, 'Christian': 1, 'and': 1, 'worshipped': 1, ...}),\n",
              " 'Jarl Borg': FreqDist({'.': 25, ',': 18, 'I': 11, 'you': 10, '!': 10, '?': 6, 'to': 6, 'a': 5, 'is': 5, 'of': 5, ...}),\n",
              " 'Guide': FreqDist({'It': 1, 'can': 1, 'take': 1, 'us': 1, 'three': 1, 'days': 1, 'to': 1, 'reach': 1, 'the': 1, 'tree': 1, ...}),\n",
              " 'Nils': FreqDist({'Whoa': 1, '...': 1}),\n",
              " 'Young woman': FreqDist({',': 4, 'nor': 3, 'I': 2, 'you': 2, 'neither': 2, '.': 2, 'So': 1, 'Earl': 1, 'Ragnar': 1, 'come': 1, ...}),\n",
              " 'Aslaug': FreqDist({'.': 28, '!': 16, 'I': 13, ',': 13, 'the': 11, '?': 9, 'you': 9, 'is': 7, 'it': 5, 'this': 4, ...}),\n",
              " 'SEER': FreqDist({'.': 5, 'is': 5, 'you': 4, 'He': 3, 'a': 2, 'The': 1, 'gods': 1, 'desire': 1, 'to': 1, 'have': 1, ...}),\n",
              " 'RAGNAR': FreqDist({'.': 16, 'I': 9, ',': 7, 'You': 5, 'you': 5, '?': 4, 'he': 4, 'me': 4, 'to': 4, \"'ve\": 3, ...}),\n",
              " 'ROLLO': FreqDist({'!': 3, ',': 2, 'How': 1, 'can': 1, 'you': 1, 'forbid': 1, 'it': 1, 'little': 1, 'brother': 1, 'we': 1, ...}),\n",
              " 'EARL HARALDSON': FreqDist({'You': 1, 'understand': 1, 'that': 1, 'all': 1, 'this': 1, 'belongs': 1, 'to': 1, 'me': 1, '.': 1}),\n",
              " 'LAGERTHA': FreqDist({'.': 11, '!': 6, ',': 3, 'are': 3, 'my': 2, 'Ungh': 2, 'you': 2, 'I': 2, 'In': 1, 'dreams': 1, ...}),\n",
              " 'SIGGY': FreqDist({'!': 6, '.': 6, ',': 3, 'No': 3, 'you': 3, '?': 3, 'I': 3, 'to': 3, 'is': 2, 'not': 2, ...}),\n",
              " 'ALL': FreqDist({'Hail': 1, ',': 1, 'Earl': 1, 'Ragnar': 1, '!': 1, 'Amen': 1, '.': 1}),\n",
              " 'KONG HORIK': FreqDist({'Ragnar': 1, 'Lothbrok': 1, '!': 1}),\n",
              " 'JARL BORG': FreqDist({'.': 3, 'King': 2, 'Horik': 2, 'Are': 1, 'you': 1, 'the': 1, 'emissaries': 1, 'from': 1, '?': 1, 'Then': 1, ...}),\n",
              " 'GILDA': FreqDist({'I': 1, 'am': 1, 'going': 1, 'to': 1, 'die': 1, '.': 1}),\n",
              " 'ASLAUG': FreqDist({',': 7, '.': 6, 'I': 5, 'the': 4, 'you': 3, 'will': 2, 'have': 2, 'a': 2, 'am': 1, 'Princess': 1, ...}),\n",
              " 'ARNE': FreqDist({'I': 1, \"'m\": 1, 'here': 1, 'on': 1, 'behalf': 1, 'of': 1, 'Ragnar': 1, 'Lothbrok': 1, '.': 1, 'Agh': 1, ...}),\n",
              " 'FLOKI': FreqDist({'!': 11, '.': 7, '?': 7, ',': 4, 'Ungh': 3, 'The': 2, '...': 2, 'Helga': 2, 'Ubbe': 2, 'I': 2, ...}),\n",
              " 'TORSTEIN': FreqDist({'.': 5, '!': 4, '?': 3, 'do': 2, 'you': 2, 'Floki': 1, 'What': 1, 'want': 1, 'He': 1, 'has': 1, ...}),\n",
              " 'KING HORIK': FreqDist({'.': 19, ',': 16, 'and': 8, 'the': 7, 'you': 7, 'Ragnar': 6, 'of': 5, '!': 5, 'I': 5, '?': 5, ...}),\n",
              " 'WOMAN': FreqDist({'!': 9, 'to': 2, 'them': 2, 'What': 1, \"'s\": 1, 'happened': 1, '?': 1, 'Generous': 1, 'Ungh': 1, 'Show': 1, ...}),\n",
              " 'BJORN': FreqDist({'.': 15, 'you': 8, '!': 7, 'I': 7, '?': 6, ',': 6, \"n't\": 3, 'do': 3, 'that': 3, 'to': 3, ...}),\n",
              " 'MAN': FreqDist({'!': 20, ',': 4, '.': 4, 'it': 3, 'You': 3, 'He': 2, 'the': 2, 'Floki': 2, 'That': 2, \"'s\": 2, ...}),\n",
              " 'WOMEN': FreqDist({'I': 1, 'spit': 1, 'on': 1, 'you': 1, '!': 1}),\n",
              " 'MAN AND WOMAN': FreqDist({'Traitor': 2, '!': 2}),\n",
              " 'TOWNSPEOPLE': FreqDist({'Yeah': 1, '!': 1}),\n",
              " 'CAPTAIN': FreqDist({'!': 4, 'Hoist': 2, 'Keep': 1, 'steady': 1, 'Take': 1, 'the': 1, 'oars': 1, 'sails': 1}),\n",
              " 'WARRIORS': FreqDist({'Odin': 1, '!': 1}),\n",
              " 'WARRIOR': FreqDist({'!': 8, 'it': 3, \"'s\": 2, '.': 2, 'Rip': 2, 'off': 2, 'Hyah': 2, 'Ungh': 2, 'That': 1, 'Let': 1, ...}),\n",
              " 'King Ecbert': FreqDist({'.': 45, 'to': 17, ',': 17, 'of': 13, 'I': 12, 'the': 12, 'you': 10, 'in': 9, 'is': 7, 'But': 6, ...}),\n",
              " 'Sigvard': FreqDist({',': 10, '?': 9, '.': 5, 'you': 4, 'me': 3, 'Not': 3, 'hungry': 3, 'Bjorn': 3, 'Lagertha': 2, '!': 2, ...}),\n",
              " 'Vikings': FreqDist({'!': 4, 'Pull': 3, 'What': 1, '?': 1, 'Woo': 1}),\n",
              " 'Horik': FreqDist({'.': 15, ',': 13, 'the': 6, 'You': 5, '!': 5, 'to': 5, 'I': 5, 'are': 5, 'of': 4, 'you': 4, ...}),\n",
              " 'Bishop Swithern': FreqDist({',': 4, '.': 3, 'you': 3, '...': 3, 'they': 2, '?': 2, 'will': 2, 'Penitent': 2, 'Dear': 1, 'Lord': 1, ...}),\n",
              " 'Bishop Edmund': FreqDist({',': 10, '.': 5, '!': 5, 'to': 4, 'is': 4, 'apostate': 4, '?': 3, 'Here': 3, 'your': 3, 'destiny': 3, ...}),\n",
              " 'Men and women': FreqDist({'!': 2, 'Yeah': 1, 'Here': 1, ',': 1, 'here': 1}),\n",
              " 'Jarl bork': FreqDist({'Ungh': 1, '!': 1}),\n",
              " 'Girl': FreqDist({'!': 3, '?': 2, 'Shields': 1, 'Lagertha': 1, 'We': 1, \"'ve\": 1, 'missed': 1, 'you': 1, 'so': 1, 'much': 1, ...}),\n",
              " 'Old warrior': FreqDist({'the': 4, 'is': 3, 'of': 3, 'to': 3, 'save': 3, ',': 3, 'Rollo': 3, '.': 3, 'There': 2, 'first': 2, ...}),\n",
              " 'Townspeople': FreqDist({'Man': 1, 'Of': 1, 'course': 1, '.': 1}),\n",
              " 'Ealdorman Werferth': FreqDist({'.': 5, ',': 4, 'have': 3, 'their': 2, 'Their': 2, 'forces': 2, 'divided': 2, 'Your': 1, 'army': 1, 'is': 1, ...}),\n",
              " 'Ecbert': FreqDist({'.': 36, ',': 23, 'I': 18, 'to': 13, 'you': 9, 'and': 7, 'the': 7, 'of': 7, 'us': 5, 'is': 5, ...}),\n",
              " 'Ubbe': FreqDist({'.': 13, '!': 12, ',': 6, '?': 6, 'you': 5, 'I': 4, 'to': 4, 'Father': 4, 'Ivar': 3, 'No': 3, ...}),\n",
              " 'Hvitserk': FreqDist({'!': 10, '.': 6, 'it': 4, ',': 4, 'Stop': 3, 'Ubbe': 3, 'I': 2, 'you': 2, 'Ivar': 2, 'him': 2, ...}),\n",
              " 'Captain': FreqDist({'!': 44, 'the': 5, 'Two': 4, 'it': 3, 'Three': 3, 'Back': 3, 'up': 3, 'Archers': 3, \"'s\": 2, 'Halt': 2, ...}),\n",
              " 'Thorvard': FreqDist({'.': 4, ',': 2, 'lord': 2, 'Thank': 1, 'you': 1, 'my': 1, 'Your': 1, 'lands': 1, 'are': 1, 'lost': 1, ...}),\n",
              " 'Earl Sigvard': FreqDist({'Agghhhh': 1, '!': 1}),\n",
              " 'Nun': FreqDist({'!': 6, 'I': 1, 'beg': 1, 'you': 1, 'On': 1, 'no': 1, 'Mercy': 1, 'Oh': 1, ',': 1, 'mercy': 1, ...}),\n",
              " 'Saxon soldier': FreqDist({'Bring': 1, 'him': 1, '!': 1}),\n",
              " 'My sons': FreqDist({'Ubbe': 1, 'and': 1, 'Hvitserk': 1, '.': 1}),\n",
              " 'Guard': FreqDist({'!': 12, 'Over': 2, 'here': 2, 'Get': 2, 'Hey': 1, 'there': 1, 'Something': 1, 'is': 1, 'over': 1, 'Where': 1, ...}),\n",
              " 'Olrik': FreqDist({'!': 2, 'Yah': 1, 'Ungh': 1, 'It': 1, \"'s\": 1, 'me': 1, '.': 1}),\n",
              " 'bjorn': FreqDist({'.': 2, 'Ragnar': 1, 'Wait': 1, '!': 1, 'Come': 1, ',': 1, 'come': 1}),\n",
              " 'Guards': FreqDist({'!': 3, 'There': 2, 'Over': 1, 'there': 1}),\n",
              " 'Wife': FreqDist({'What': 1, 'are': 1, 'you': 1, 'thinking': 1, 'of': 1, 'doing': 1, '?': 1, 'This': 1, 'is': 1, 'a': 1, ...}),\n",
              " 'men': FreqDist({'!': 2, 'Ho': 1, 'Yah': 1}),\n",
              " 'Elisef': FreqDist({'.': 4, 'Floki': 1, '!': 1, 'Thank': 1, 'you': 1, 'Ragnar': 1, 'That': 1, \"'s\": 1, 'it': 1, 'Splint': 1}),\n",
              " 'Aethelwulf': FreqDist({'.': 21, ',': 12, '!': 12, 'to': 7, 'you': 6, 'I': 6, 'father': 5, 'a': 5, 'my': 4, 'in': 3, ...}),\n",
              " 'Baker': FreqDist({'!': 4, 'Bread': 2, 'bread': 2, 'No': 1, 'stone': 1, 'in': 1, 'this': 1, 'Best': 1, 'you': 1, 'can': 1, ...}),\n",
              " 'Porunn': FreqDist({'.': 8, 'Porunn': 2, 'Yes': 2, 'I': 2, 'No': 2, 'Your': 1, 'father': 1, 'has': 1, 'a': 1, 'new': 1, ...}),\n",
              " 'Torvi': FreqDist({'!': 2, 'Why': 1, 'do': 1, \"n't\": 1, 'you': 1, 'ask': 1, 'her': 1, '?': 1, 'No': 1, 'Astrid': 1}),\n",
              " 'Young man': FreqDist({'Let': 2, 'us': 2, 'out': 2, '!': 2}),\n",
              " 'GUARD': FreqDist({'Hold': 2, '!': 2, 'your': 1, 'advance': 1}),\n",
              " 'PEOPLE': FreqDist({'God': 2, 'save': 2, 'England': 2, '!': 2}),\n",
              " 'HORIK': FreqDist({'Floki': 3, '.': 2, ',': 2, 'I': 2, '?': 1, 'loves': 1, 'Ragnar': 1, 'The': 1, 'thing': 1, 'is': 1, ...}),\n",
              " 'AELLE': FreqDist({'Mm': 2, '.': 2}),\n",
              " 'ECBERT': FreqDist({'We': 1, 'must': 1, 'be': 1, 'prepared': 1, 'for': 1, 'him': 1, '.': 1}),\n",
              " 'MEN': FreqDist({'!': 2, 'Yay': 1, 'All': 1, 'right': 1}),\n",
              " 'BISHOP': FreqDist({',': 20, 'you': 5, 'to': 5, 'and': 5, 'of': 4, 'these': 4, 'this': 4, 'all': 3, 'in': 3, 'Do': 2, ...}),\n",
              " 'PRIESTESS': FreqDist({'.': 2, 'Helga': 1, '...': 1, 'Now': 1, 'the': 1, 'rings': 1, 'Then': 1, 'you': 1, 'are': 1, 'married': 1}),\n",
              " 'Envoy': FreqDist({'You': 1, 'need': 1, 'a': 1, 'new': 1, 'ally': 1, 'to': 1, 'attack': 1, 'Wessex': 1, '.': 1}),\n",
              " 'Sorceress': FreqDist({'.': 3, 'The': 1, 'baby': 1, 'will': 1, 'come': 1, 'I': 1, 'see': 1, 'the': 1, 'head': 1, 'It': 1, ...}),\n",
              " 'Erlendur': FreqDist({',': 4, '.': 4, 'you': 3, 'to': 3, 'I': 2, 'will': 2, 'too': 1, 'am': 1, 'happy': 1, 'for': 1, ...}),\n",
              " 'Women': FreqDist({'Lagertha': 2, '!': 2}),\n",
              " 'Einar': FreqDist({'.': 7, 'Earl': 4, 'Kalf': 3, ',': 2, '?': 2, 'Welcome': 1, 'back': 1, 'Ingstad': 1, 'We': 1, \"'ve\": 1, ...}),\n",
              " 'Kwenthrith': FreqDist({'.': 16, '?': 9, ',': 8, '!': 6, \"n't\": 5, 'about': 5, 'I': 5, 'are': 4, 'you': 4, 'they': 3, ...}),\n",
              " 'Torstein and Rollo': FreqDist({'Brace': 1, '!': 1}),\n",
              " 'Solider': FreqDist({'Agghhhh': 1, '!': 1}),\n",
              " 'Aelle': FreqDist({'.': 11, 'I': 7, 'the': 6, ',': 6, 'O': 3, 'Lord': 3, 'agree': 2, 'to': 2, 'terms': 2, 'swear': 2, ...}),\n",
              " 'HELGA': FreqDist({'.': 2, 'Floki': 1, 'Hey': 1, '...': 1, 'A': 1, 'beautiful': 1, 'girl': 1, 'What': 1, 'shall': 1, 'we': 1, ...}),\n",
              " 'LITTLE GIRL': FreqDist({'Oh': 1, ',': 1, 'there': 1, '!': 1}),\n",
              " 'ERLENDUR': FreqDist({'?': 2, 'is': 2, 'to': 2, 'They': 1, \"'re\": 1, 'here': 1, ',': 1, 'father': 1, '!': 1, 'Sisters': 1, ...}),\n",
              " 'GIRL': FreqDist({'!': 4, 'Father': 1, 'Hey': 1, 'Erlendur': 1, 'Catch': 1, 'me': 1, 'again': 1, 'Yes': 1, ',': 1, 'mistress': 1, ...}),\n",
              " 'GUNNHILD': FreqDist({'.': 3, ',': 2, 'are': 2, 'now': 2, '!': 2, 'Yes': 1, 'all': 1, 'of': 1, 'us': 1, 'well': 1, ...}),\n",
              " 'PORUNN': FreqDist({'!': 5, '.': 3, 'Ungh': 3, 'do': 2, \"n't\": 2, 'You': 1, 'understand': 1, 'Respect': 1, 'I': 1, 'want': 1, ...}),\n",
              " 'CROWD': FreqDist({'Hey': 2, '!': 2}),\n",
              " 'ATHELSTAN': FreqDist({'us': 6, '.': 5, 'our': 2, 'forgive': 2, ',': 2, 'And': 2, 'deliver': 2, 'from': 2, 'Evil': 2, 'I': 1, ...}),\n",
              " 'VENDOR': FreqDist({'It': 2, \"'s\": 2, '.': 2, '?': 2, 'not': 1, 'goat': 1, 'mutton': 1, 'Two': 1, 'more': 1, 'How': 1, ...}),\n",
              " 'ATHELSTAN AND RAGNAR': FreqDist({'Amen': 1, '.': 1}),\n",
              " 'Athelstan voiceover': FreqDist({',': 45, '.': 39, 'the': 27, 'of': 23, 'is': 17, 'and': 15, 'I': 13, 'a': 9, '?': 9, 'to': 9, ...}),\n",
              " 'Bird squawking': FreqDist({',': 2, 'But': 1, 'in': 1, 'truth': 1, 'can': 1, 'anyone': 1, 'faithfully': 1, 'serve': 1, 'two': 1, 'masters': 1, ...}),\n",
              " 'Fever Ray': FreqDist({'U': 10, '266A': 10, 'I': 10, 'If': 5, 'had': 5, 'a': 5, 'voice': 5, ',': 5, 'would': 5, 'sing': 5}),\n",
              " 'man': FreqDist({'.': 7, 'the': 5, 'to': 4, ',': 3, 'you': 3, 'gods': 3, 'We': 2, 'have': 2, 'a': 2, \"'re\": 2, ...}),\n",
              " 'all': FreqDist({'Hail': 1, ',': 1, 'Earl': 1, 'Ragnar': 1, '!': 1}),\n",
              " 'Then answer me': FreqDist({'who': 1, 'will': 1, 'bear': 1, 'me': 1, 'my': 1, 'son': 1, '?': 1}),\n",
              " 'crowd': FreqDist({'Yes': 1, '!': 1}),\n",
              " 'The Seer': FreqDist({'The': 3, '.': 3, 'one': 1, 'future': 1, 'that': 1, 'would': 1, 'never': 1, 'reveal': 1, 'itself': 1, 'runes': 1, ...}),\n",
              " 'Lothbrok': FreqDist({'.': 17, '...': 13, 'on': 12, 'Previously': 11, 'Vikings': 11, ',': 9, 'you': 7, '?': 6, 'I': 6, 'is': 5, ...}),\n",
              " 'Kalf': FreqDist({'.': 12, 'to': 5, 'you': 5, 'I': 5, ',': 4, 'Einar': 3, 'the': 3, 'is': 3, 'of': 3, 'in': 2, ...}),\n",
              " 'Brihtwulf': FreqDist({'They': 1, \"'re\": 1, 'turning': 1, 'towards': 1, 'us': 1, '.': 1, 'Sound': 1, 'the': 1, 'horns': 1, '!': 1}),\n",
              " 'Burgred': FreqDist({'.': 2, 'Do': 1, \"n't\": 1, 'just': 1, 'stand': 1, 'and': 1, 'stare': 1, 'Fire': 1, 'at': 1, 'them': 1, ...}),\n",
              " 'Judith': FreqDist({'.': 5, 'I': 4, 'to': 4, '?': 3, 'you': 3, 'wanted': 2, 'a': 2, 'Have': 1, 'we': 1, 'any': 1, ...}),\n",
              " 'Man in distance': FreqDist({'I': 1, 'see': 1, 'them': 1, '!': 1}),\n",
              " 'Stranger': FreqDist({'Thank': 1, 'you': 1, '.': 1}),\n",
              " 'Harbard': FreqDist({'to': 3, '.': 3, 'I': 2, 'you': 2, 'that': 2, ',': 2, 'want': 1, 'tell': 1, 'of': 1, 'the': 1, ...}),\n",
              " 'Fisherman': FreqDist({'They': 1, 'must': 1, 'have': 1, 'drowned': 1, ',': 1, 'for': 1, 'I': 1, 'can': 1, 'find': 1, 'no': 1, ...}),\n",
              " 'Both': FreqDist({'.': 2, 'Torstein': 1, 'Yes': 1, ',': 1, 'Father': 1, 'Yeah': 1, '!': 1}),\n",
              " 'Boater': FreqDist({'Lord': 1, 'Ragnar': 1, '.': 1}),\n",
              " 'Gisla': FreqDist({'.': 4, 'Father': 2, '?': 2, 'to': 2, 'this': 2, '!': 2, 'The': 1, 'people': 1, 'of': 1, 'Paris': 1, ...}),\n",
              " 'King ecbert': FreqDist({'Mmm': 1, '.': 1}),\n",
              " 'Odo': FreqDist({'.': 11, ',': 9, 'the': 5, 'to': 5, 'and': 4, 'The': 3, 'have': 3, 'so': 3, 'many': 3, 'they': 3, ...}),\n",
              " 'Emporer Charles': FreqDist({'Gisla': 1, ',': 1, 'I': 1, 'regret': 1, 'not': 1, 'sending': 1, 'you': 1, 'to': 1, 'safety': 1, 'in': 1, ...}),\n",
              " 'Roland': FreqDist({'.': 3, 'Odo': 2, 'Count': 1, 'Poor': 1, 'I': 1, 'know': 1}),\n",
              " 'Lagertha in English': FreqDist({'Forward': 1, '!': 1}),\n",
              " 'Viking': FreqDist({'!': 9, '.': 4, 'the': 3, 'We': 2, 'me': 2, 'do': 2, 'you': 2, 'Pull': 2, 'Yeah': 1, 'should': 1, ...}),\n",
              " 'Siegfried': FreqDist({'Sinric': 1, ',': 1, 'you': 1, \"'re\": 1, 'coming': 1, 'with': 1, 'us': 1, '.': 1}),\n",
              " 'Louis': FreqDist({'Count': 1, 'Odo': 1, '!': 1, 'I': 1, 'put': 1, 'my': 1, 'men': 1, 'at': 1, 'your': 1, 'disposal': 1, ...}),\n",
              " 'Sinric': FreqDist({'.': 3, 'the': 3, 'will': 2, 'of': 2, 'Earl': 1, 'Siegfried': 1, 'How': 1, 'much': 1, 'treasure': 1, 'do': 1, ...}),\n",
              " 'Emperor Charles': FreqDist({'to': 2, 'It': 1, 'is': 1, 'wonderful': 1, 'be': 1, 'able': 1, 'eat': 1, 'good': 1, 'food': 1, 'again': 1, ...}),\n",
              " 'Neil': FreqDist({'the': 11, ',': 10, 'of': 5, '.': 5, 'a': 4, 'big': 3, 'and': 3, 'is': 3, 'we': 2, 'are': 2, ...}),\n",
              " 'Anna': FreqDist({'.': 2, 'Yep': 1, 'It': 1, 'might': 1, 'not': 1, 'look': 1, 'of': 1, 'much': 1, ',': 1, 'but': 1, ...}),\n",
              " 'Count Odo': FreqDist({'.': 2, 'Whatever': 1, 'happens': 1, ',': 1, 'they': 1, 'must': 1, 'not': 1, 'get': 1, 'through': 1, 'the': 1, ...}),\n",
              " 'Ivar': FreqDist({'.': 11, '!': 5, 'you': 5, 'the': 5, ',': 4, '?': 3, 'of': 3, 'I': 3, 'Faster': 2, 'not': 2, ...}),\n",
              " 'Slave Trader': FreqDist({'!': 2, 'Come': 1, 'on': 1, ',': 1, 'keep': 1, 'them': 1, 'moving': 1, '.': 1, 'Solomon': 1, 'This': 1, ...}),\n",
              " 'Archbishop': FreqDist({',': 2, 'et': 2, 'In': 1, 'nomine': 1, 'Patris': 1, 'Filii': 1, 'Spiritus': 1, 'Sancti': 1, '.': 1}),\n",
              " 'Eirik': FreqDist({'!': 3, 'the': 2, 'Open': 1, 'gates': 1, 'Charge': 1, 'Some': 1, 'of': 1, 'warriors': 1, 'are': 1, 'unhappy': 1, ...}),\n",
              " 'Sentry': FreqDist({'!': 6, 'Soldier': 1, 'approaching': 1, 'He': 1, \"'s\": 1, 'one': 1, 'of': 1, 'ours': 1, '.': 1, 'Alarm': 1, ...}),\n",
              " 'Hunter': FreqDist({'It': 1, 'is': 1, 'still': 1, 'warm': 1, '.': 1}),\n",
              " 'Prudentius': FreqDist({'.': 2, 'to': 2, 'You': 1, 'are': 1, 'a': 1, 'Bishop': 1, 'of': 1, 'our': 1, 'Holy': 1, 'Church': 1, ...}),\n",
              " 'Commander': FreqDist({'Draw': 1, '!': 1}),\n",
              " 'Key man': FreqDist({'Kill': 2, 'the': 2, 'Queen': 2, '!': 2}),\n",
              " 'Rampart soldier': FreqDist({'Hold': 1, 'him': 1, 'still': 1, '!': 1}),\n",
              " 'Congregation': FreqDist({'et': 2, '.': 2, 'In': 1, 'nomine': 1, 'Patris': 1, 'fillii': 1, 'Spiritus': 1, 'Sancti': 1, 'St.': 1, 'Eulalia': 1}),\n",
              " 'Soldiers': FreqDist({'!': 2, 'One': 1, 'We': 1, 'attack': 1}),\n",
              " 'Slave trader': FreqDist({'.': 3, 'For': 2, 'They': 1, 'are': 1, 'from': 1, 'Paris': 1, 'sale': 1, 'a': 1, 'very': 1, 'good': 1, ...}),\n",
              " 'Kid': FreqDist({'Come': 1, 'on': 1, '!': 1}),\n",
              " 'Harald': FreqDist({'.': 8, 'you': 5, '?': 4, 'I': 3, ',': 3, '!': 3, 'Yes': 2, \"'s\": 2, 'remember': 2, 'We': 2, ...}),\n",
              " 'Charles': FreqDist({'You': 2, '.': 2, '?': 2, ',': 2, 'and': 2, 'asked': 1, 'for': 1, 'a': 1, 'private': 1, 'audience': 1, ...}),\n",
              " 'All men': FreqDist({'!': 3, 'Yes': 2, 'Yeah': 1}),\n",
              " 'Halfdan': FreqDist({'.': 2, '?': 2, 'It': 1, \"'s\": 1, 'a': 1, 'great': 1, 'honor': 1, 'Brother': 1, 'Who': 1, 'See': 1, ...}),\n",
              " 'Child': FreqDist({'!': 4, 'it': 2, ',': 2, 'Got': 1, 'It': 1, \"'s\": 1, 'mine': 1, 'give': 1, 'back': 1, 'Here': 1, ...}),\n",
              " 'All women': FreqDist({'Long': 1, 'live': 1, 'Earl': 1, 'Ingstad': 1, '!': 1}),\n",
              " 'Man and women': FreqDist({'Long': 1, 'live': 1, 'Earl': 1, 'Ingstad': 1, '!': 1}),\n",
              " 'Yidu': FreqDist({'Do': 1, \"n't\": 1, 'be': 1, 'frightened': 1, '.': 1}),\n",
              " 'Arles': FreqDist({'Stay': 1, 'close': 1, 'to': 1, 'Count': 1, 'Odo': 1, '.': 1}),\n",
              " 'Wigstan': FreqDist({'.': 2, 'My': 1, 'family': 1, 'The': 1, 'dregs': 1, 'of': 1, 'a': 1, 'once': 1, 'illustrious': 1, 'name': 1}),\n",
              " 'Edmund': FreqDist({'nomine': 2, '.': 2, 'E': 1, 'patris': 1, 'In': 1, 'Patris': 1, 'et': 1, 'Filii': 1, '...': 1, 'I': 1, ...}),\n",
              " 'Therese': FreqDist({'I': 1, 'have': 1, 'not': 1, 'seen': 1, 'you': 1, 'for': 1, 'a': 1, 'long': 1, 'time': 1, '.': 1}),\n",
              " 'Papal secretary': FreqDist({'Welcome': 1, '.': 1}),\n",
              " 'Sigurd': FreqDist({'.': 2, 'No': 1, 'Hvitserk': 1}),\n",
              " 'Frankish officer': FreqDist({'What': 1, 'are': 1, 'your': 1, 'orders': 1, '?': 1}),\n",
              " 'Thorhall': FreqDist({\"'s\": 2, 'your': 2, 'father': 2, 'as': 2, 'King': 1, 'Ecbert': 1, 'Ealdormen': 1, 'told': 1, 'us': 1, 'that': 1, ...}),\n",
              " 'Merchant': FreqDist({'All': 1, 'hides': 1, 'and': 1, 'furs': 1, '!': 1}),\n",
              " 'Inge': FreqDist({'I': 1, \"'m\": 1, 'coming': 1, '!': 1}),\n",
              " 'Officer': FreqDist({'Who': 1, 'are': 1, 'you': 1, '?': 1, 'My': 1, 'lord': 1, '.': 1}),\n",
              " 'Driver': FreqDist({'I': 1, \"'ve\": 1, 'heard': 1, 'a': 1, 'lot': 1, 'about': 1, 'you': 1, '.': 1}),\n",
              " 'Alfred': FreqDist({',': 2, 'you': 2, '.': 2, 'Books': 1, 'Grandfather': 1, '?': 1, 'Thank': 1, 'grandfather': 1, 'I': 1, 'love': 1}),\n",
              " 'Egil': FreqDist({'are': 3, ',': 2, '.': 2, 'as': 2, 'they': 2, 'In': 1, 'my': 1, 'opinion': 1, 'it': 1, 'does': 1, ...}),\n",
              " 'Ellisif': FreqDist({'Princess': 1, 'Ellisif': 1, 'from': 1, 'Denmark': 1, '.': 1, 'No': 1, '!': 1}),\n",
              " 'Saxon captain': FreqDist({'Archers': 1, '!': 1}),\n",
              " 'Bishop': FreqDist({'God': 1, 'help': 1, 'us': 1, '!': 1}),\n",
              " 'Shield Maiden': FreqDist({'Gate': 1, '!': 1}),\n",
              " 'Ivan': FreqDist({'Oh': 1, ',': 1, 'but': 1, 'you': 1, 'do': 1, 'need': 1, 'me': 1, '.': 1}),\n",
              " 'Saxon Captain': FreqDist({'!': 2, 'No': 1, ',': 1, 'not': 1, 'there': 1, 'Formation': 1}),\n",
              " 'Saxon Soldier': FreqDist({'Where': 1, 'shall': 1, 'I': 1, 'put': 1, 'them': 1, '?': 1})}"
            ]
          },
          "metadata": {},
          "execution_count": 16
        }
      ]
    },
    {
      "cell_type": "code",
      "source": [
        "# Вывод топ-10 наиболее часто употребляемых слов для первых нескольких персонажей\n",
        "top_words_by_character = {}\n",
        "\n",
        "# Количество персонажей для демонстрации\n",
        "num_characters_to_show = 3\n",
        "\n",
        "for character, freq_dist in list(word_freq_by_character.items())[:num_characters_to_show]:\n",
        "    top_words = freq_dist.most_common(10)\n",
        "    top_words_by_character[character] = top_words\n",
        "\n",
        "top_words_by_character"
      ],
      "metadata": {
        "colab": {
          "base_uri": "https://localhost:8080/"
        },
        "id": "LIWQzgJa3A3a",
        "outputId": "4e85210c-e99f-479e-a3fe-f429e5c1fca8"
      },
      "execution_count": 17,
      "outputs": [
        {
          "output_type": "execute_result",
          "data": {
            "text/plain": [
              "{'Scandinavian warrior': [('Ragnar', 1), ('!', 1)],\n",
              " 'Voice': [('Odin', 1), ('!', 1)],\n",
              " 'Rollo': [('.', 76),\n",
              "  ('!', 43),\n",
              "  (',', 30),\n",
              "  ('you', 25),\n",
              "  ('?', 24),\n",
              "  ('to', 22),\n",
              "  ('I', 21),\n",
              "  ('is', 14),\n",
              "  ('the', 12),\n",
              "  ('of', 10)]}"
            ]
          },
          "metadata": {},
          "execution_count": 17
        }
      ]
    },
    {
      "cell_type": "code",
      "source": [
        "from sklearn.feature_extraction.text import TfidfVectorizer\n",
        "from sklearn.metrics.pairwise import cosine_similarity\n",
        "import numpy as np\n",
        "\n",
        "# Подготовка списка всех реплик для векторизации\n",
        "all_dialogues = [d['dialogue'] for d in dialogues_cleaned_advanced]\n",
        "\n",
        "# Инициализация векторизатора TF-IDF\n",
        "tfidf_vectorizer = TfidfVectorizer()\n",
        "\n",
        "# Векторизация реплик\n",
        "tfidf_matrix = tfidf_vectorizer.fit_transform(all_dialogues)\n",
        "\n",
        "# Функция для нахождения наиболее подходящего ответа\n",
        "def find_most_suitable_response(input_message):\n",
        "    input_message_tfidf = tfidf_vectorizer.transform([input_message])\n",
        "    cosine_similarities = cosine_similarity(input_message_tfidf, tfidf_matrix)\n",
        "    most_similar_dialogue_idx = np.argmax(cosine_similarities)\n",
        "    most_suitable_response = all_dialogues[most_similar_dialogue_idx]\n",
        "    return most_suitable_response\n",
        "\n",
        "# Тест функции с примером входящего сообщения\n",
        "test_input_message = \"What will happen now?\"\n",
        "find_most_suitable_response(test_input_message)"
      ],
      "metadata": {
        "colab": {
          "base_uri": "https://localhost:8080/",
          "height": 35
        },
        "id": "_epsGhQe3kg-",
        "outputId": "8a193e8c-08c9-4f98-85c3-0094b3f6c7fa"
      },
      "execution_count": 18,
      "outputs": [
        {
          "output_type": "execute_result",
          "data": {
            "text/plain": [
              "'What will happen to him?'"
            ],
            "application/vnd.google.colaboratory.intrinsic+json": {
              "type": "string"
            }
          },
          "metadata": {},
          "execution_count": 18
        }
      ]
    },
    {
      "cell_type": "code",
      "source": [
        "# Тест функции с примером входящего сообщения\n",
        "test_input_message = \"Hi\"\n",
        "find_most_suitable_response(test_input_message)"
      ],
      "metadata": {
        "colab": {
          "base_uri": "https://localhost:8080/",
          "height": 35
        },
        "id": "d7vqxi5C3ozT",
        "outputId": "87e62f25-16fc-4af2-85aa-19438e199d69"
      },
      "execution_count": 20,
      "outputs": [
        {
          "output_type": "execute_result",
          "data": {
            "text/plain": [
              "'Hi yah! Hi yah!'"
            ],
            "application/vnd.google.colaboratory.intrinsic+json": {
              "type": "string"
            }
          },
          "metadata": {},
          "execution_count": 20
        }
      ]
    },
    {
      "cell_type": "code",
      "source": [
        "import joblib\n",
        "\n",
        "# Сохранение модели TF-IDF векторизатора\n",
        "joblib.dump(tfidf_vectorizer, 'tfidf_vectorizer.joblib')\n",
        "\n",
        "# Сохранение матрицы TF-IDF векторов\n",
        "joblib.dump(tfidf_matrix, 'tfidf_matrix.joblib')\n",
        "\n",
        "# Сохранение списка all_dialogues\n",
        "joblib.dump(all_dialogues, 'all_dialogues.joblib')"
      ],
      "metadata": {
        "colab": {
          "base_uri": "https://localhost:8080/"
        },
        "id": "SMQXEwaf4Muy",
        "outputId": "1eb944fa-5c0b-469c-c3a5-337897dfc303"
      },
      "execution_count": 21,
      "outputs": [
        {
          "output_type": "execute_result",
          "data": {
            "text/plain": [
              "['tfidf_matrix.joblib']"
            ]
          },
          "metadata": {},
          "execution_count": 21
        }
      ]
    }
  ]
}